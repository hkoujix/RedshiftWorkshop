{
 "cells": [
  {
   "cell_type": "markdown",
   "metadata": {},
   "source": [
    "#  Kinesis Data Firehiseを利用したデータパイプラインの演習"
   ]
  },
  {
   "cell_type": "markdown",
   "metadata": {},
   "source": [
    "## 0. 準備\n"
   ]
  },
  {
   "cell_type": "markdown",
   "metadata": {},
   "source": [
    "S3に配置されたParquetファイルを Redshift Spectrumを通してクエリします"
   ]
  },
  {
   "cell_type": "markdown",
   "metadata": {},
   "source": [
    "# 9-1. S3バケットを調べてしましょう"
   ]
  },
  {
   "cell_type": "markdown",
   "metadata": {},
   "source": [
    "Kinesis Daata Firehose によりParquetに変換しS3へ保存されていることを確認しましょう"
   ]
  },
  {
   "cell_type": "code",
   "execution_count": null,
   "metadata": {},
   "outputs": [],
   "source": [
    "!aws s3 ls  --recursive s3://{bucket_name}/{table_name}/"
   ]
  },
  {
   "cell_type": "markdown",
   "metadata": {},
   "source": [
    "# 9-2. Redshiftに接続"
   ]
  },
  {
   "cell_type": "markdown",
   "metadata": {},
   "source": [
    "必要な Python Package をインポートします。"
   ]
  },
  {
   "cell_type": "code",
   "execution_count": null,
   "metadata": {
    "scrolled": false
   },
   "outputs": [],
   "source": [
    "# Import packages\n",
    "import pandas as pd\n",
    "import matplotlib.pyplot as plt\n",
    "import psycopg2\n",
    "import boto3\n",
    "import json"
   ]
  },
  {
   "cell_type": "markdown",
   "metadata": {},
   "source": [
    "## パラメータをCloudFormationのスタックから取得\n",
    "\n",
    "AWS CloudFormation で入力したパラメータおよび出力を取得します。"
   ]
  },
  {
   "cell_type": "code",
   "execution_count": null,
   "metadata": {},
   "outputs": [],
   "source": [
    "# Please edit stack name\n",
    "stack_name = 'step1'\n",
    "\n",
    "\n",
    "cfn = boto3.client('cloudformation')\n",
    "response = cfn.describe_stacks(StackName=stack_name)['Stacks'][0]\n",
    "\n",
    "for item in response['Parameters']:\n",
    "    if item['ParameterKey'] == 'MasterUserName':\n",
    "        db_user = item['ParameterValue']\n",
    "    elif item['ParameterKey'] == 'DatabaseName':\n",
    "        db_name = item['ParameterValue']\n",
    "\n",
    "db_port='5439'\n",
    "        \n",
    "for item in response['Outputs']:\n",
    "    if item['OutputKey'] == 'RedshiftClusterEndpoint':\n",
    "        cluster_endpoint = item['OutputValue'].split(':')[0]\n",
    "    elif item['OutputKey'] == 'RedshiftClusterName':\n",
    "        cluster_name = item['OutputValue']\n",
    "    elif item['OutputKey'] == 'RedshiftClusterRole':\n",
    "        redshift_role = item['OutputValue']\n",
    "        \n",
    "#  show parameters\n",
    "print('db_user: {}'.format(db_user))\n",
    "print('db_name: {}'.format(db_name))\n",
    "print('db_port: {}'.format(db_port))\n",
    "print('cluster_endpoint: {}'.format(cluster_endpoint))\n",
    "print('cluster_name: {}'.format(cluster_name))\n",
    "print('redshift_role: {}'.format(redshift_role))\n"
   ]
  },
  {
   "cell_type": "markdown",
   "metadata": {},
   "source": [
    "## Credential 取得\n",
    "\n",
    "Amazon Redshift へアクセスするための、[一時的データベースユーザー認証情報]を取得します。\n",
    "(https://docs.aws.amazon.com/ja_jp/redshift/latest/mgmt/generating-iam-credentials-cli-api.html)\n"
   ]
  },
  {
   "cell_type": "code",
   "execution_count": null,
   "metadata": {
    "scrolled": true
   },
   "outputs": [],
   "source": [
    "# get temporal cluster credentials\n",
    "redshift = boto3.client('redshift')\n",
    "credentials = redshift.get_cluster_credentials(\n",
    "    DbUser=db_user, \n",
    "    DbName=db_name, \n",
    "    ClusterIdentifier=cluster_name, \n",
    "    DurationSeconds=3600,\n",
    "    AutoCreate=False\n",
    ")\n",
    "\n",
    "tmp_db_user = credentials['DbUser']\n",
    "tmp_db_password = credentials['DbPassword']\n",
    "\n",
    "print('User: {}'.format(tmp_db_user ))\n",
    "print('DB password: {}'.format( tmp_db_password))"
   ]
  },
  {
   "cell_type": "markdown",
   "metadata": {},
   "source": [
    "## Redshift DB接続"
   ]
  },
  {
   "cell_type": "markdown",
   "metadata": {},
   "source": [
    "Python 用の PostgreSQL ドライバである psycopg2 を利用して Redshift へアクセスします。"
   ]
  },
  {
   "cell_type": "code",
   "execution_count": null,
   "metadata": {},
   "outputs": [],
   "source": [
    "# connect to Redshift\n",
    "conn = psycopg2.connect(\n",
    "    host=cluster_endpoint, \n",
    "    port=db_port, \n",
    "    dbname=db_name, \n",
    "    user=tmp_db_user, \n",
    "    password=tmp_db_password\n",
    ")\n",
    "conn.autocommit = True\n",
    "print(conn)"
   ]
  },
  {
   "cell_type": "markdown",
   "metadata": {},
   "source": [
    "# 9-3. Spectrumを通して S3を検索しましょう"
   ]
  },
  {
   "cell_type": "markdown",
   "metadata": {},
   "source": [
    "外部テーブルを登録しましょう"
   ]
  },
  {
   "cell_type": "code",
   "execution_count": null,
   "metadata": {},
   "outputs": [],
   "source": [
    "sql_create_table= [\n",
    "\"\"\"\n",
    "    CREATE EXTERNAL SCHEMA workshop2 from data catalog\n",
    "    DATABASE 'kinesislab'\n",
    "    IAM_ROLE  '{}'\n",
    "    create external database if not exists;\n",
    "\"\"\"\n",
    "]"
   ]
  },
  {
   "cell_type": "code",
   "execution_count": null,
   "metadata": {},
   "outputs": [],
   "source": [
    "with conn.cursor() as cur:\n",
    "    for sql in sql_create_table:\n",
    "        cur.execute(sql.format(redshift_role))\n",
    "        print('Done: ', sql.format(redshift_role))"
   ]
  },
  {
   "cell_type": "code",
   "execution_count": null,
   "metadata": {},
   "outputs": [],
   "source": [
    "sql = '''select * from svv_external_schemas;'''\n",
    "%time pd.read_sql(sql=sql, con=conn)"
   ]
  },
  {
   "cell_type": "code",
   "execution_count": null,
   "metadata": {},
   "outputs": [],
   "source": [
    "sql = '''select * from svv_external_tables'''\n",
    "%time pd.read_sql(sql=sql, con=conn)"
   ]
  },
  {
   "cell_type": "markdown",
   "metadata": {},
   "source": [
    "### nyctaxitripsテーブルのクエリ"
   ]
  },
  {
   "cell_type": "code",
   "execution_count": null,
   "metadata": {},
   "outputs": [],
   "source": [
    "sql_query = '''select *\n",
    "from\n",
    "  workshop2.nyctaxitrips\n",
    "limit\n",
    "  10;\n",
    "'''\n",
    "\n",
    "%time pd.read_sql(sql=sql_query, con=conn)"
   ]
  },
  {
   "cell_type": "code",
   "execution_count": null,
   "metadata": {},
   "outputs": [],
   "source": [
    "with conn.cursor() as cur:\n",
    "    for sql in sql_create_table:\n",
    "        cur.execute(sql.format(accountid, redshift_role))\n",
    "        print('Done: ', sql)"
   ]
  },
  {
   "cell_type": "markdown",
   "metadata": {},
   "source": [
    "### Parquetファイルの検索　（カウント）"
   ]
  },
  {
   "cell_type": "code",
   "execution_count": null,
   "metadata": {},
   "outputs": [],
   "source": [
    "sql_query = '''select\n",
    " year,month,day,hour , count(1) as count\n",
    "from\n",
    "   workshop2.nyctaxitrips\n",
    "group by\n",
    "   year,month,day,hour \n",
    "'''\n",
    "\n",
    "%time pd.read_sql(sql=sql_query, con=conn)"
   ]
  },
  {
   "cell_type": "markdown",
   "metadata": {},
   "source": [
    "## Close処理"
   ]
  },
  {
   "cell_type": "markdown",
   "metadata": {},
   "source": [
    "最後に、psycopg2 の connection を閉じます。"
   ]
  },
  {
   "cell_type": "code",
   "execution_count": null,
   "metadata": {},
   "outputs": [],
   "source": [
    "conn.close()"
   ]
  }
 ],
 "metadata": {
  "kernelspec": {
   "display_name": "conda_python3",
   "language": "python",
   "name": "conda_python3"
  },
  "language_info": {
   "codemirror_mode": {
    "name": "ipython",
    "version": 3
   },
   "file_extension": ".py",
   "mimetype": "text/x-python",
   "name": "python",
   "nbconvert_exporter": "python",
   "pygments_lexer": "ipython3",
   "version": "3.6.13"
  }
 },
 "nbformat": 4,
 "nbformat_minor": 2
}
