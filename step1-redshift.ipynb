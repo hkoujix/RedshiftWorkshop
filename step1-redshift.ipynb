{
 "cells": [
  {
   "cell_type": "markdown",
   "metadata": {},
   "source": [
    "#  Amazon Redshift を利用したデータパイプラインの演習"
   ]
  },
  {
   "cell_type": "markdown",
   "metadata": {},
   "source": [
    "## 0. 準備\n",
    "最初に一度だけ実行します。　２度目からは、この章をスキップください\n"
   ]
  },
  {
   "cell_type": "markdown",
   "metadata": {},
   "source": [
    "必要な python ライブラリーを pipで、このインスタンスにインストール"
   ]
  },
  {
   "cell_type": "code",
   "execution_count": null,
   "metadata": {},
   "outputs": [],
   "source": [
    "!pip install psycopg2-binary\n",
    "!pip install numpy\n",
    "!pip install matplotlib\n",
    "!pip install boto3"
   ]
  },
  {
   "cell_type": "markdown",
   "metadata": {},
   "source": [
    "# 1. S3バケット間　データコピー"
   ]
  },
  {
   "cell_type": "markdown",
   "metadata": {},
   "source": [
    "ログインしている環境の12桁のAccountIDを設定します。"
   ]
  },
  {
   "cell_type": "code",
   "execution_count": null,
   "metadata": {},
   "outputs": [],
   "source": [
    "#accountid = 'xxxxxxxxxxxx'\n",
    "accountids =  !aws sts get-caller-identity --query Account --output text\n",
    "accountid = accountids[0]\n",
    "print(accountid)"
   ]
  },
  {
   "cell_type": "markdown",
   "metadata": {},
   "source": [
    "講師のS3バケットにあるデータ"
   ]
  },
  {
   "cell_type": "code",
   "execution_count": null,
   "metadata": {},
   "outputs": [],
   "source": [
    "!aws s3 ls s3://kh-handsondata/srcdata/gz/sh10/"
   ]
  },
  {
   "cell_type": "markdown",
   "metadata": {},
   "source": [
    "自分のバケットにコピーを実行"
   ]
  },
  {
   "cell_type": "code",
   "execution_count": null,
   "metadata": {},
   "outputs": [],
   "source": [
    "!aws s3 cp --recursive s3://kh-handsondata/srcdata/gz/sh10  s3://{accountid}-workshopdata/srcdata/gz/sh10 "
   ]
  },
  {
   "cell_type": "markdown",
   "metadata": {},
   "source": [
    "## サイズの確認"
   ]
  },
  {
   "cell_type": "markdown",
   "metadata": {},
   "source": [
    "### コピー元"
   ]
  },
  {
   "cell_type": "code",
   "execution_count": null,
   "metadata": {},
   "outputs": [],
   "source": [
    "!aws s3 ls --recursive --summarize --human-readable s3://kh-handsondata/srcdata/gz/sh10/"
   ]
  },
  {
   "cell_type": "markdown",
   "metadata": {},
   "source": [
    "### コピー先"
   ]
  },
  {
   "cell_type": "code",
   "execution_count": null,
   "metadata": {},
   "outputs": [],
   "source": [
    "!aws s3 ls --recursive --summarize --human-readable s3://{accountid}-workshopdata/srcdata/gz/sh10/"
   ]
  },
  {
   "cell_type": "markdown",
   "metadata": {},
   "source": [
    "ファイル数と総サイズを確認ください"
   ]
  },
  {
   "cell_type": "markdown",
   "metadata": {},
   "source": [
    "### 管理コンソールから　データを確認ください"
   ]
  },
  {
   "cell_type": "markdown",
   "metadata": {},
   "source": [
    "# Redshiftに接続"
   ]
  },
  {
   "cell_type": "markdown",
   "metadata": {},
   "source": [
    "必要な Python Package をインポートします。"
   ]
  },
  {
   "cell_type": "code",
   "execution_count": 1,
   "metadata": {
    "scrolled": false
   },
   "outputs": [],
   "source": [
    "# Import packages\n",
    "import pandas as pd\n",
    "import matplotlib.pyplot as plt\n",
    "import psycopg2\n",
    "import boto3\n",
    "import json"
   ]
  },
  {
   "cell_type": "markdown",
   "metadata": {},
   "source": [
    "## Obtain parameters from AWS CloudFormation\n",
    "\n",
    "AWS CloudFormation で入力したパラメータおよび出力を取得します。"
   ]
  },
  {
   "cell_type": "code",
   "execution_count": 2,
   "metadata": {},
   "outputs": [
    {
     "name": "stdout",
     "output_type": "stream",
     "text": [
      "db_user: awsuser\n",
      "db_name: mydb\n",
      "db_port: 5439\n",
      "cluster_endpoint: redshiftcluster-vgjakykw4eqh.ctlwj4ufuakz.ap-northeast-1.redshift.amazonaws.com\n",
      "cluster_name: redshiftcluster-vgjakykw4eqh\n",
      "redshift_role: arn:aws:iam::317319571831:role/step1-RedshiftRole-15LONBVV3NI6N\n"
     ]
    }
   ],
   "source": [
    "# Please edit stack name\n",
    "stack_name = 'step1'\n",
    "\n",
    "\n",
    "cfn = boto3.client('cloudformation')\n",
    "response = cfn.describe_stacks(StackName=stack_name)['Stacks'][0]\n",
    "\n",
    "for item in response['Parameters']:\n",
    "    if item['ParameterKey'] == 'MasterUserName':\n",
    "        db_user = item['ParameterValue']\n",
    "    elif item['ParameterKey'] == 'DatabaseName':\n",
    "        db_name = item['ParameterValue']\n",
    "\n",
    "db_port='5439'\n",
    "        \n",
    "for item in response['Outputs']:\n",
    "    if item['OutputKey'] == 'RedshiftClusterEndpoint':\n",
    "        cluster_endpoint = item['OutputValue'].split(':')[0]\n",
    "    elif item['OutputKey'] == 'RedshiftClusterName':\n",
    "        cluster_name = item['OutputValue']\n",
    "    elif item['OutputKey'] == 'RedshiftClusterRole':\n",
    "        redshift_role = item['OutputValue']\n",
    "        \n",
    "#  show parameters\n",
    "print('db_user: {}'.format(db_user))\n",
    "print('db_name: {}'.format(db_name))\n",
    "print('db_port: {}'.format(db_port))\n",
    "print('cluster_endpoint: {}'.format(cluster_endpoint))\n",
    "print('cluster_name: {}'.format(cluster_name))\n",
    "print('redshift_role: {}'.format(redshift_role))\n"
   ]
  },
  {
   "cell_type": "markdown",
   "metadata": {},
   "source": [
    "## Credential 取得\n",
    "\n",
    "Amazon Redshift へアクセスするための、[一時的データベースユーザー認証情報]を取得します。\n",
    "(https://docs.aws.amazon.com/ja_jp/redshift/latest/mgmt/generating-iam-credentials-cli-api.html)\n"
   ]
  },
  {
   "cell_type": "code",
   "execution_count": 3,
   "metadata": {
    "scrolled": true
   },
   "outputs": [
    {
     "name": "stdout",
     "output_type": "stream",
     "text": [
      "User: IAM:awsuser\n",
      "DB password: AG+Ru+IuekSuESktONqIKXD2EMyxsUxozEGY1rYmY7bQG29lgxsQ22HofRPCW8QpPp+eFqQ==\n"
     ]
    }
   ],
   "source": [
    "# get temporal cluster credentials\n",
    "redshift = boto3.client('redshift')\n",
    "credentials = redshift.get_cluster_credentials(\n",
    "    DbUser=db_user, \n",
    "    DbName=db_name, \n",
    "    ClusterIdentifier=cluster_name, \n",
    "    DurationSeconds=3600,\n",
    "    AutoCreate=False\n",
    ")\n",
    "\n",
    "tmp_db_user = credentials['DbUser']\n",
    "tmp_db_password = credentials['DbPassword']\n",
    "\n",
    "print('User: {}'.format(tmp_db_user ))\n",
    "print('DB password: {}'.format( tmp_db_password))"
   ]
  },
  {
   "cell_type": "markdown",
   "metadata": {},
   "source": [
    "## Redshift DB接続"
   ]
  },
  {
   "cell_type": "markdown",
   "metadata": {},
   "source": [
    "Python 用の PostgreSQL ドライバである psycopg2 を利用して Redshift へアクセスします。"
   ]
  },
  {
   "cell_type": "code",
   "execution_count": null,
   "metadata": {},
   "outputs": [],
   "source": [
    "# connect to Redshift\n",
    "conn = psycopg2.connect(\n",
    "    host=cluster_endpoint, \n",
    "    port=db_port, \n",
    "    dbname=db_name, \n",
    "    user=tmp_db_user, \n",
    "    password=tmp_db_password\n",
    ")\n",
    "conn.autocommit = True\n",
    "print(conn)"
   ]
  },
  {
   "cell_type": "markdown",
   "metadata": {},
   "source": [
    "## Create table "
   ]
  },
  {
   "cell_type": "markdown",
   "metadata": {},
   "source": [
    "スキーマとテーブルを作成します。"
   ]
  },
  {
   "cell_type": "code",
   "execution_count": null,
   "metadata": {},
   "outputs": [],
   "source": [
    "sql_create_table = [\n",
    "    \"\"\"\n",
    "        CREATE SCHEMA IF NOT EXISTS sh10;\n",
    "    \"\"\", \n",
    "    \"\"\"\n",
    "        CREATE TABLE IF NOT EXISTS sh10.channels(\n",
    "          channel_id NUMERIC(38,0) NOT NULL,\n",
    "          channel_desc VARCHAR(20) NOT NULL,\n",
    "          channel_class VARCHAR(20) NOT NULL,\n",
    "          channel_class_id NUMERIC(38,0) NOT NULL,\n",
    "          channel_total VARCHAR(13) NOT NULL,\n",
    "          channel_total_id NUMERIC(38,0) NOT NULL\n",
    "        )\n",
    "        DISTSTYLE ALL;\n",
    "    \"\"\",\n",
    "    \"\"\"\n",
    "        CREATE TABLE IF NOT EXISTS sh10.countries(\n",
    "          country_id NUMERIC(38,0) NOT NULL,\n",
    "          country_iso_code VARCHAR(2) NOT NULL,\n",
    "          country_name VARCHAR(40) NOT NULL,\n",
    "          country_subregion VARCHAR(30) NOT NULL,\n",
    "          country_subregion_id NUMERIC(38,0) NOT NULL,\n",
    "          country_region VARCHAR(20) NOT NULL,\n",
    "          country_region_id NUMERIC(38,0) NOT NULL,\n",
    "          country_total VARCHAR(11) NOT NULL,\n",
    "          country_total_id NUMERIC(38,0) NOT NULL,\n",
    "          country_name_hist VARCHAR(40)\n",
    "        )\n",
    "        DISTSTYLE ALL;\n",
    "    \"\"\",\n",
    "    \"\"\"\n",
    "        CREATE TABLE IF NOT EXISTS sh10.customers(\n",
    "          cust_id NUMERIC(38,0) NOT NULL,\n",
    "          cust_first_name VARCHAR(20) NOT NULL,\n",
    "          cust_last_name VARCHAR(40) NOT NULL,\n",
    "          cust_gender VARCHAR(1) NOT NULL,\n",
    "          cust_year_of_birth SMALLINT NOT NULL,\n",
    "          cust_marital_status VARCHAR(20),\n",
    "          cust_street_address VARCHAR(40) NOT NULL,\n",
    "          cust_postal_code VARCHAR(10) NOT NULL,\n",
    "          cust_city VARCHAR(30) NOT NULL,\n",
    "          cust_city_id NUMERIC(38,0) NOT NULL,\n",
    "          cust_state_province VARCHAR(40) NOT NULL,\n",
    "          cust_state_province_id NUMERIC(38,0) NOT NULL,\n",
    "          country_id NUMERIC(38,0) NOT NULL,\n",
    "          cust_main_phone_number VARCHAR(25) NOT NULL,\n",
    "          cust_income_level VARCHAR(30),\n",
    "          cust_credit_limit NUMERIC(38,0),\n",
    "          cust_email VARCHAR(50),\n",
    "          cust_total VARCHAR(14) NOT NULL,\n",
    "          cust_total_id NUMERIC(38,0) NOT NULL,\n",
    "          cust_src_id NUMERIC(38,0),\n",
    "          cust_eff_from TIMESTAMP WITHOUT TIME ZONE,\n",
    "          cust_eff_to TIMESTAMP WITHOUT TIME ZONE,\n",
    "          cust_valid VARCHAR(1)\n",
    "        )\n",
    "        DISTSTYLE KEY DISTKEY (cust_id);\n",
    "    \"\"\",\n",
    "    \"\"\"\n",
    "        CREATE TABLE IF NOT EXISTS sh10.products(\n",
    "          prod_id INTEGER NOT NULL,\n",
    "          prod_name VARCHAR(50) NOT NULL,\n",
    "          prod_desc VARCHAR(4000) NOT NULL,\n",
    "          prod_subcategory VARCHAR(50) NOT NULL,\n",
    "          prod_subcategory_id NUMERIC(38,0) NOT NULL,\n",
    "          prod_subcategory_desc VARCHAR(2000) NOT NULL,\n",
    "          prod_category VARCHAR(50) NOT NULL,\n",
    "          prod_category_id NUMERIC(38,0) NOT NULL,\n",
    "          prod_category_desc VARCHAR(2000) NOT NULL,\n",
    "          prod_weight_class SMALLINT NOT NULL,\n",
    "          prod_unit_of_measure VARCHAR(20),\n",
    "          prod_pack_size VARCHAR(30) NOT NULL,\n",
    "          supplier_id INTEGER NOT NULL,\n",
    "          prod_status VARCHAR(20) NOT NULL,\n",
    "          prod_list_price NUMERIC(8,2) NOT NULL,\n",
    "          prod_min_price NUMERIC(8,2) NOT NULL,\n",
    "          prod_total VARCHAR(13) NOT NULL,\n",
    "          prod_total_id NUMERIC(38,0) NOT NULL,\n",
    "          prod_src_id NUMERIC(38,0),\n",
    "          prod_eff_from TIMESTAMP WITHOUT TIME ZONE,\n",
    "          prod_eff_to TIMESTAMP WITHOUT TIME ZONE,\n",
    "          prod_valid VARCHAR(1)\n",
    "        )\n",
    "        DISTSTYLE KEY DISTKEY (prod_id);\n",
    "    \"\"\",\n",
    "    \"\"\"\n",
    "        CREATE TABLE IF NOT EXISTS sh10.promotions(\n",
    "          promo_id INTEGER NOT NULL,\n",
    "          promo_name VARCHAR(30) NOT NULL,\n",
    "          promo_subcategory VARCHAR(30) NOT NULL,\n",
    "          promo_subcategory_id NUMERIC(38,0) NOT NULL,\n",
    "          promo_category VARCHAR(30) NOT NULL,\n",
    "          promo_category_id NUMERIC(38,0) NOT NULL,\n",
    "          promo_cost NUMERIC(10,2) NOT NULL,\n",
    "          promo_begin_date TIMESTAMP WITHOUT TIME ZONE NOT NULL,\n",
    "          promo_end_date TIMESTAMP WITHOUT TIME ZONE NOT NULL,\n",
    "          promo_total VARCHAR(15) NOT NULL,\n",
    "          promo_total_id NUMERIC(38,0) NOT NULL\n",
    "        )\n",
    "        DISTSTYLE EVEN;\n",
    "    \"\"\",\n",
    "    \"\"\"\n",
    "        CREATE TABLE IF NOT EXISTS sh10.sales(\n",
    "          prod_id NUMERIC(38,0) NOT NULL,\n",
    "          cust_id NUMERIC(38,0) NOT NULL,\n",
    "          time_id TIMESTAMP WITHOUT TIME ZONE NOT NULL,\n",
    "          channel_id NUMERIC(38,0) NOT NULL,\n",
    "          promo_id NUMERIC(38,0) NOT NULL,\n",
    "          quantity_sold NUMERIC(10,2) NOT NULL,\n",
    "          seller INTEGER NOT NULL,\n",
    "          fulfillment_center INTEGER NOT NULL,\n",
    "          courier_org INTEGER NOT NULL,\n",
    "          tax_country VARCHAR(3) NOT NULL,\n",
    "          tax_region VARCHAR(3),\n",
    "          amount_sold NUMERIC(10,2) NOT NULL\n",
    "        )\n",
    "        DISTSTYLE KEY DISTKEY (cust_id)\n",
    "        SORTKEY (time_id);\n",
    "    \"\"\",\n",
    "\n",
    "    \"\"\"\n",
    "        CREATE TABLE IF NOT EXISTS sh10.times(\n",
    "          time_id TIMESTAMP WITHOUT TIME ZONE NOT NULL,\n",
    "          day_name VARCHAR(36) NOT NULL,\n",
    "          day_number_in_month VARCHAR(2) NOT NULL,\n",
    "          day_number_in_year VARCHAR(3) NOT NULL,\n",
    "          calendar_year VARCHAR(4) NOT NULL,\n",
    "          calendar_quarter_number VARCHAR(1) NOT NULL,\n",
    "          calendar_month_number VARCHAR(2) NOT NULL,\n",
    "          calendar_week_number VARCHAR(2) NOT NULL,\n",
    "          calendar_month_desc VARCHAR(7) NOT NULL,\n",
    "          calendar_quarter_desc VARCHAR(6) NOT NULL\n",
    "        )\n",
    "        DISTSTYLE ALL;\n",
    "   \"\"\"\n",
    "]"
   ]
  },
  {
   "cell_type": "code",
   "execution_count": null,
   "metadata": {},
   "outputs": [],
   "source": [
    "with conn.cursor() as cur:\n",
    "    for sql in sql_create_table:\n",
    "        cur.execute(sql)\n",
    "        print('Done: ', sql)\n",
    "    "
   ]
  },
  {
   "cell_type": "markdown",
   "metadata": {},
   "source": [
    "プライマーキー、外部キーを設定します。"
   ]
  },
  {
   "cell_type": "code",
   "execution_count": null,
   "metadata": {},
   "outputs": [],
   "source": [
    "sql_create_cst = [\n",
    "    \"\"\"\n",
    "        ALTER TABLE SH10.CHANNELS\n",
    "          ADD CONSTRAINT CHANNELS_PK PRIMARY KEY ( CHANNEL_ID );\n",
    "    \"\"\",\n",
    "    \"\"\"\n",
    "        ALTER TABLE SH10.COUNTRIES\n",
    "          ADD CONSTRAINT COUNTRIES_PK PRIMARY KEY ( COUNTRY_ID );\n",
    "    \"\"\",\n",
    "    \"\"\"\n",
    "        ALTER TABLE SH10.CUSTOMERS\n",
    "          ADD CONSTRAINT CUSTOMERS_PK PRIMARY KEY ( CUST_ID );\n",
    "    \"\"\",\n",
    "    \"\"\"\n",
    "        ALTER TABLE SH10.PRODUCTS\n",
    "          ADD CONSTRAINT PRODUCTS_PK PRIMARY KEY ( PROD_ID ) ;\n",
    "    \"\"\",\n",
    "    \"\"\"\n",
    "        ALTER TABLE SH10.PROMOTIONS\n",
    "          ADD CONSTRAINT PROMOTIONS_PK PRIMARY KEY ( PROMO_ID );\n",
    "    \"\"\",\n",
    "    \"\"\"\n",
    "        ALTER TABLE SH10.SALES\n",
    "          ADD CONSTRAINT SALES_UK UNIQUE ( PROD_ID , CUST_ID , PROMO_ID , CHANNEL_ID , TIME_ID ) ;\n",
    "    \"\"\",\n",
    "    \"\"\"\n",
    "        ALTER TABLE SH10.TIMES\n",
    "          ADD CONSTRAINT TIMES_PK PRIMARY KEY ( TIME_ID );\n",
    "    \"\"\",\n",
    "    \"\"\"\n",
    "        ALTER TABLE SH10.CUSTOMERS\n",
    "          ADD CONSTRAINT CUST_COUNTRIES_FK FOREIGN KEY ( COUNTRY_ID )\n",
    "          REFERENCES SH10.COUNTRIES ( COUNTRY_ID );\n",
    "    \"\"\",\n",
    "    \"\"\"\n",
    "        ALTER TABLE SH10.SALES\n",
    "          ADD CONSTRAINT SALES_CHANNELS_FK FOREIGN KEY ( CHANNEL_ID )\n",
    "          REFERENCES SH10.CHANNELS ( CHANNEL_ID );\n",
    "    \"\"\",\n",
    "    \"\"\"\n",
    "        ALTER TABLE SH10.SALES\n",
    "          ADD CONSTRAINT SALES_CUSTOMERS_FK FOREIGN KEY ( CUST_ID )\n",
    "          REFERENCES SH10.CUSTOMERS ( CUST_ID );\n",
    "    \"\"\",\n",
    "    \"\"\"\n",
    "        ALTER TABLE SH10.SALES\n",
    "          ADD CONSTRAINT SALES_PRODUCTS_FK FOREIGN KEY ( PROD_ID )\n",
    "          REFERENCES SH10.PRODUCTS ( PROD_ID ) ;\n",
    "    \"\"\",\n",
    "    \"\"\"\n",
    "        ALTER TABLE SH10.SALES\n",
    "          ADD CONSTRAINT SALES_PROMOTIONS_FK\n",
    "          FOREIGN KEY ( PROMO_ID )\n",
    "          REFERENCES SH10.PROMOTIONS ( PROMO_ID );\n",
    "    \"\"\",\n",
    "    \"\"\"\n",
    "        ALTER TABLE SH10.SALES\n",
    "          ADD CONSTRAINT SALES_TIMES_FK FOREIGN KEY ( TIME_ID )\n",
    "          REFERENCES SH10.TIMES ( TIME_ID );\n",
    "    \"\"\"\n",
    "]"
   ]
  },
  {
   "cell_type": "code",
   "execution_count": null,
   "metadata": {},
   "outputs": [],
   "source": [
    "with conn.cursor() as cur:\n",
    "    for sql in sql_create_cst:\n",
    "        cur.execute(sql)\n",
    "        print('Done: ', sql)"
   ]
  },
  {
   "cell_type": "markdown",
   "metadata": {},
   "source": [
    "### 作成されたテーブルを確認"
   ]
  },
  {
   "cell_type": "code",
   "execution_count": null,
   "metadata": {},
   "outputs": [],
   "source": [
    "sql_query = \"\"\"\n",
    "    SELECT *\n",
    "    FROM svv_all_tables\n",
    "    WHERE schema_name = 'sh10'\n",
    "    ORDER BY TABLE_NAME, SCHEMA_NAME;\n",
    "\"\"\""
   ]
  },
  {
   "cell_type": "code",
   "execution_count": null,
   "metadata": {},
   "outputs": [],
   "source": [
    "with conn.cursor() as cur:\n",
    "    cur.execute(sql_query)\n",
    "    print('Done: ', sql_query)\n",
    "    for row in cur:\n",
    "        print(row)"
   ]
  },
  {
   "cell_type": "markdown",
   "metadata": {},
   "source": [
    "# 2. Load data from Amazon S3"
   ]
  },
  {
   "cell_type": "markdown",
   "metadata": {},
   "source": [
    "データをS3からRedshiftにロードしましょう。　まず１つのテーブルで試します。"
   ]
  },
  {
   "cell_type": "code",
   "execution_count": null,
   "metadata": {},
   "outputs": [],
   "source": [
    "sql_copy=[\n",
    "    \"\"\"\n",
    "    COPY sh10.channels\n",
    "    FROM 's3://{}-workshopdata/srcdata/gz/sh10/channels/sh10_channels_manifest'\n",
    "    credentials 'aws_iam_role={}' \n",
    "    DELIMITER '\\t'\n",
    "    region 'ap-northeast-1'\n",
    "    GZIP\n",
    "    MANIFEST\n",
    "    MAXERROR 1;\n",
    "    \"\"\"\n",
    "]"
   ]
  },
  {
   "cell_type": "code",
   "execution_count": null,
   "metadata": {},
   "outputs": [],
   "source": [
    "%%time\n",
    "with conn.cursor() as cur:\n",
    "    for sql in sql_copy:\n",
    "        cur.execute(sql.format(accountid, redshift_role))\n",
    "        print('Done: ', sql)"
   ]
  },
  {
   "cell_type": "markdown",
   "metadata": {},
   "source": [
    "ロードした件数をカウントしましょう"
   ]
  },
  {
   "cell_type": "code",
   "execution_count": null,
   "metadata": {},
   "outputs": [],
   "source": [
    "sql_query = \"\"\"\n",
    "        SELECT count(*) from sh10.channels;\n",
    "\"\"\"\n",
    "%time df = pd.read_sql(sql=sql_query, con=conn)\n",
    "df"
   ]
  },
  {
   "cell_type": "markdown",
   "metadata": {},
   "source": [
    "テーブルの中身を確認しましょう"
   ]
  },
  {
   "cell_type": "code",
   "execution_count": null,
   "metadata": {},
   "outputs": [],
   "source": [
    "sql_query = \"\"\"\n",
    "        SELECT *  from sh10.channels limit 5;\n",
    "\"\"\"\n",
    "\n",
    "%time df = pd.read_sql(sql=sql_query, con=conn)\n",
    "df"
   ]
  },
  {
   "cell_type": "markdown",
   "metadata": {},
   "source": [
    "## 残りのテーブルへのロード"
   ]
  },
  {
   "cell_type": "code",
   "execution_count": null,
   "metadata": {},
   "outputs": [],
   "source": [
    "sql_copy=[\n",
    "    \"\"\"\n",
    "    COPY sh10.countries\n",
    "    FROM 's3://{}-workshopdata/srcdata/gz/sh10/countries/sh10_countries_manifest'\n",
    "    credentials 'aws_iam_role={}' \n",
    "    DELIMITER '\\t'\n",
    "    region 'ap-northeast-1'\n",
    "    GZIP\n",
    "    MANIFEST\n",
    "    MAXERROR 1 ;\n",
    "    \"\"\",\n",
    "    \"\"\"\n",
    "    COPY sh10.customers\n",
    "    FROM 's3://{}-workshopdata/srcdata/gz/sh10/customers/sh10_customers_manifest'\n",
    "    credentials 'aws_iam_role={}' \n",
    "    DELIMITER '\\t'\n",
    "    region 'ap-northeast-1'\n",
    "    GZIP\n",
    "    MANIFEST\n",
    "    MAXERROR 1 ;\n",
    "    \"\"\",\n",
    "    \"\"\"\n",
    "    COPY sh10.products\n",
    "    FROM 's3://{}-workshopdata/srcdata/gz/sh10/products/sh10_products_manifest'\n",
    "    credentials 'aws_iam_role={}' \n",
    "    DELIMITER '\\t'\n",
    "    region 'ap-northeast-1'\n",
    "    GZIP\n",
    "    MANIFEST\n",
    "    MAXERROR 1;\n",
    "    \"\"\",\n",
    "    \"\"\"\n",
    "    COPY sh10.promotions\n",
    "    FROM 's3://{}-workshopdata/srcdata/gz/sh10/promotions/sh10_promotions_manifest'\n",
    "    credentials 'aws_iam_role={}' \n",
    "    DELIMITER '\\t'\n",
    "    region 'ap-northeast-1'\n",
    "    GZIP\n",
    "    MANIFEST\n",
    "    MAXERROR 1;\n",
    "    \"\"\",\n",
    "    \"\"\"\n",
    "    COPY sh10.sales\n",
    "    FROM 's3://{}-workshopdata/srcdata/gz/sh10/sales/sh10_sales_manifest'\n",
    "    credentials 'aws_iam_role={}' \n",
    "    DELIMITER '\\t'\n",
    "    region 'ap-northeast-1'\n",
    "    GZIP\n",
    "    MANIFEST\n",
    "    MAXERROR 1;\n",
    "    \"\"\",\n",
    "    \"\"\"\n",
    "    COPY sh10.times\n",
    "    FROM 's3://{}-workshopdata/srcdata/gz/sh10/times/sh10_times_manifest'\n",
    "    credentials 'aws_iam_role={}' \n",
    "    DELIMITER '\\t'\n",
    "    region 'ap-northeast-1'\n",
    "    GZIP\n",
    "    MANIFEST\n",
    "    MAXERROR 1;\n",
    "    \"\"\"\n",
    "]"
   ]
  },
  {
   "cell_type": "markdown",
   "metadata": {},
   "source": [
    "ここから１０分程度要します。　１つ目が出力が出てきたら、ここで休憩してください。"
   ]
  },
  {
   "cell_type": "code",
   "execution_count": null,
   "metadata": {},
   "outputs": [],
   "source": [
    "%%time\n",
    "with conn.cursor() as cur:\n",
    "    for sql in sql_copy:\n",
    "        cur.execute(sql.format(accountid, redshift_role))\n",
    "        print('Done: ', sql)"
   ]
  },
  {
   "cell_type": "markdown",
   "metadata": {},
   "source": [
    "### 件数確認"
   ]
  },
  {
   "cell_type": "markdown",
   "metadata": {},
   "source": [
    "無事にロードできたか件数を確認しましょう。"
   ]
  },
  {
   "cell_type": "code",
   "execution_count": null,
   "metadata": {},
   "outputs": [],
   "source": [
    "sql_query = [\n",
    "    \"\"\"\n",
    "        SELECT count(*) from sh10.channels;\n",
    "    \"\"\",\n",
    "    \"\"\"\n",
    "        SELECT count(*) from sh10.countries;\n",
    "    \"\"\",\n",
    "    \"\"\"\n",
    "        SELECT count(*) from sh10.customers;\n",
    "    \"\"\",\n",
    "    \"\"\"\n",
    "        SELECT count(*) from sh10.products;\n",
    "    \"\"\",\n",
    "    \"\"\"\n",
    "        SELECT count(*) from sh10.promotions;\n",
    "    \"\"\",\n",
    "    \"\"\"\n",
    "        SELECT count(*) from sh10.sales;\n",
    "    \"\"\",\n",
    "    \"\"\"\n",
    "        SELECT count(*) from sh10.times;\n",
    "    \"\"\"\n",
    "]"
   ]
  },
  {
   "cell_type": "code",
   "execution_count": null,
   "metadata": {},
   "outputs": [],
   "source": [
    "with conn.cursor() as cur:\n",
    "    for sql in sql_query:\n",
    "        cur.execute(sql)\n",
    "        print('Done: ', sql)\n",
    "        for row in cur:\n",
    "            print(row)\n",
    "            "
   ]
  },
  {
   "cell_type": "markdown",
   "metadata": {},
   "source": [
    "余裕のある方は、テーブルの中身を確認してみてください。 SalesとCustomersは、件数が多いので、絞り込むか、もしくは limitを設定してください。"
   ]
  },
  {
   "cell_type": "code",
   "execution_count": null,
   "metadata": {},
   "outputs": [],
   "source": [
    "sql_query = \"\"\"\n",
    "        SELECT *  from sh10.sales limit 5;\n",
    "\"\"\"\n",
    "\n",
    "%time df = pd.read_sql(sql=sql_query, con=conn)\n",
    "df"
   ]
  },
  {
   "cell_type": "code",
   "execution_count": null,
   "metadata": {},
   "outputs": [],
   "source": [
    "sql_query = \"\"\"\n",
    "        SELECT *  from sh10.customers limit 5;\n",
    "\"\"\"\n",
    "\n",
    "%time df = pd.read_sql(sql=sql_query, con=conn)\n",
    "df"
   ]
  },
  {
   "cell_type": "markdown",
   "metadata": {},
   "source": [
    "# 3. テーブルを調べてしましょう"
   ]
  },
  {
   "cell_type": "markdown",
   "metadata": {},
   "source": [
    "### Salesテーブルのクエリ"
   ]
  },
  {
   "cell_type": "code",
   "execution_count": null,
   "metadata": {},
   "outputs": [],
   "source": [
    "sql_query = '''select\n",
    " date_trunc('mon', time_id)\n",
    "  , count(1) as deal_count\n",
    "from\n",
    "  sh10.sales\n",
    "group by\n",
    "  date_trunc('mon', time_id) \n",
    "order by\n",
    "  date_trunc('mon', time_id) desc\n",
    "limit\n",
    "  20;\n",
    "'''\n",
    "%time pd.read_sql(sql=sql_query, con=conn)"
   ]
  },
  {
   "cell_type": "markdown",
   "metadata": {},
   "source": [
    "# 4. unload"
   ]
  },
  {
   "cell_type": "markdown",
   "metadata": {},
   "source": [
    "S3にデータをunloadしてみましょう"
   ]
  },
  {
   "cell_type": "code",
   "execution_count": null,
   "metadata": {},
   "outputs": [],
   "source": [
    "sql_query = '''select\n",
    " to_char(time_id, 'YYYY') as year, to_char(time_id, 'MM') as month, to_char(time_id, 'DD') as day,*\n",
    "from\n",
    "  sh10.sales\n",
    "where\n",
    "  date_trunc('mon', time_id) = '2013-12-01'\n",
    "limit\n",
    "  5;\n",
    "'''\n",
    "\n",
    "df = pd.read_sql(sql=sql_query, con=conn)\n",
    "df"
   ]
  },
  {
   "cell_type": "markdown",
   "metadata": {},
   "source": [
    "### CSV gzip圧縮でunload"
   ]
  },
  {
   "cell_type": "markdown",
   "metadata": {},
   "source": [
    "2013/12 のデータをアンロードします"
   ]
  },
  {
   "cell_type": "code",
   "execution_count": null,
   "metadata": {},
   "outputs": [],
   "source": [
    "sql_unload = \"\"\"  unload  ( 'select * from sh10.sales  where   date_trunc(''mon'', time_id) = ''2013-12-01''' )\n",
    "  to  's3://{}-workshopdata/unloaddata/gz/sh10/sales/sales-'\n",
    "    credentials 'aws_iam_role={}'\n",
    "    DELIMITER '\\t'\n",
    "    region 'ap-northeast-1'\n",
    "    GZIP\n",
    "    MANIFEST;\n",
    "\"\"\""
   ]
  },
  {
   "cell_type": "code",
   "execution_count": null,
   "metadata": {},
   "outputs": [],
   "source": [
    "%%time\n",
    "with conn.cursor() as cur:\n",
    "        cur.execute(sql_unload.format(accountid, redshift_role))\n",
    "        print('Done: ', sql)"
   ]
  },
  {
   "cell_type": "code",
   "execution_count": null,
   "metadata": {},
   "outputs": [],
   "source": [
    "!aws s3 ls --recursive --summarize --human-readable s3://{accountid}-workshopdata/unloaddata/gz/sh10/sales/"
   ]
  },
  {
   "cell_type": "markdown",
   "metadata": {},
   "source": [
    "### Parquet形式でunload"
   ]
  },
  {
   "cell_type": "markdown",
   "metadata": {},
   "source": [
    "2013/12 のデータをアンロードします"
   ]
  },
  {
   "cell_type": "code",
   "execution_count": null,
   "metadata": {},
   "outputs": [],
   "source": [
    "sql_unload = \"\"\"  unload  ( 'select  to_char(time_id, ''YYYY'') as year, to_char(time_id, ''MM'') as month,  to_char(time_id, ''DD'') as day, * from sh10.sales  where   date_trunc(''mon'', time_id) = ''2013-12-01''' )\n",
    "  to  's3://{}-workshopdata/unloaddata/parquet/sh10/sales/'\n",
    "    credentials 'aws_iam_role={}'\n",
    "    FORMAT AS PARQUET\n",
    "    PARTITION BY (year, month, day)\n",
    "    region 'ap-northeast-1'\n",
    "    MANIFEST;\n",
    "\"\"\""
   ]
  },
  {
   "cell_type": "code",
   "execution_count": null,
   "metadata": {},
   "outputs": [],
   "source": [
    "%%time\n",
    "with conn.cursor() as cur:\n",
    "        cur.execute(sql_unload.format(accountid,redshift_role))\n",
    "        print('Done: ', sql)"
   ]
  },
  {
   "cell_type": "code",
   "execution_count": null,
   "metadata": {},
   "outputs": [],
   "source": [
    "!aws s3 ls --recursive --summarize --human-readable s3://{accountid}-workshopdata/unloaddata/parquet/sh10/sales/"
   ]
  },
  {
   "cell_type": "markdown",
   "metadata": {},
   "source": [
    "## ある月(2013/12)を削除"
   ]
  },
  {
   "cell_type": "markdown",
   "metadata": {},
   "source": [
    "### 削除対象カウント"
   ]
  },
  {
   "cell_type": "code",
   "execution_count": null,
   "metadata": {},
   "outputs": [],
   "source": [
    "sql_query = '''select\n",
    " date_trunc('mon', time_id)  , count(1) as deal_count\n",
    "from\n",
    "  sh10.sales\n",
    "where  \n",
    "   date_trunc( 'mon', time_id) = '2013-12-01'\n",
    "group by\n",
    "  date_trunc('mon', time_id) \n",
    "order by\n",
    "  date_trunc('mon', time_id) desc\n",
    "limit\n",
    "  20;\n",
    "'''\n",
    "\n",
    "%time pd.read_sql(sql=sql_query, con=conn)"
   ]
  },
  {
   "cell_type": "markdown",
   "metadata": {},
   "source": [
    "### 削除"
   ]
  },
  {
   "cell_type": "markdown",
   "metadata": {},
   "source": [
    "2012/12を　Redshiftから削除してみます"
   ]
  },
  {
   "cell_type": "code",
   "execution_count": null,
   "metadata": {},
   "outputs": [],
   "source": [
    "sql_del= \"\"\"\n",
    "delete \n",
    "from \n",
    "   sh10.sales\n",
    "where \n",
    "   date_trunc( 'mon', time_id) = '2013-12-01';    \n",
    "\"\"\""
   ]
  },
  {
   "cell_type": "code",
   "execution_count": null,
   "metadata": {},
   "outputs": [],
   "source": [
    "with conn.cursor() as cur:\n",
    "        cur.execute(sql_del)\n",
    "        print('Done: ', sql_del)"
   ]
  },
  {
   "cell_type": "markdown",
   "metadata": {},
   "source": [
    "削除した月をカウントしましょう。"
   ]
  },
  {
   "cell_type": "code",
   "execution_count": null,
   "metadata": {},
   "outputs": [],
   "source": [
    "sql_query = '''select\n",
    " date_trunc('mon', time_id)  , count(1) as deal_count\n",
    "from\n",
    "  sh10.sales\n",
    "where  \n",
    "   date_trunc( 'mon', time_id) = '2013-12-01'\n",
    "group by\n",
    "  date_trunc('mon', time_id) \n",
    "order by\n",
    "  date_trunc('mon', time_id) desc\n",
    "limit\n",
    "  20;\n",
    "'''\n",
    "\n",
    "%time pd.read_sql(sql=sql_query, con=conn)"
   ]
  },
  {
   "cell_type": "code",
   "execution_count": null,
   "metadata": {},
   "outputs": [],
   "source": []
  },
  {
   "cell_type": "markdown",
   "metadata": {},
   "source": [
    "## Unloadした Parquetファイルを、Redshiftにロードしてみましょう"
   ]
  },
  {
   "cell_type": "code",
   "execution_count": null,
   "metadata": {},
   "outputs": [],
   "source": [
    "sql_copy = [\n",
    "\"\"\"\n",
    "    COPY sh10.sales\n",
    "    FROM  's3://{}-workshopdata/unloaddata/parquet/sh10/sales/manifest'\n",
    "    credentials 'aws_iam_role={}' \n",
    "    FORMAT AS PARQUET\n",
    "    MANIFEST;\n",
    "\"\"\"\n",
    "]"
   ]
  },
  {
   "cell_type": "code",
   "execution_count": null,
   "metadata": {},
   "outputs": [],
   "source": [
    "%%time\n",
    "with conn.cursor() as cur:\n",
    "    for sql in sql_copy:\n",
    "        cur.execute(sql.format(accountid, redshift_role))\n",
    "        print('Done: ', sql)"
   ]
  },
  {
   "cell_type": "markdown",
   "metadata": {},
   "source": [
    "再び削除した月をカウントしましょう。"
   ]
  },
  {
   "cell_type": "code",
   "execution_count": null,
   "metadata": {},
   "outputs": [],
   "source": [
    "sql_query = '''select\n",
    " date_trunc('mon', time_id)  , count(1) as deal_count\n",
    "from\n",
    "  sh10.sales\n",
    "where  \n",
    "   date_trunc( 'mon', time_id) = '2013-12-01'\n",
    "group by\n",
    "  date_trunc('mon', time_id) \n",
    "order by\n",
    "  date_trunc('mon', time_id) desc\n",
    "limit\n",
    "  20;\n",
    "'''\n",
    "\n",
    "%time pd.read_sql(sql=sql_query, con=conn)"
   ]
  },
  {
   "cell_type": "markdown",
   "metadata": {},
   "source": [
    "# 5. Spectrumを使ってみましょう"
   ]
  },
  {
   "cell_type": "markdown",
   "metadata": {},
   "source": [
    "# 外部テーブルの登録"
   ]
  },
  {
   "cell_type": "markdown",
   "metadata": {},
   "source": [
    "Redshiftに外部テーブル用のスキーマを作成"
   ]
  },
  {
   "cell_type": "code",
   "execution_count": null,
   "metadata": {},
   "outputs": [],
   "source": [
    "sql_create_table= [\n",
    "\"\"\"\n",
    "    CREATE EXTERNAL SCHEMA workshop from data catalog\n",
    "    DATABASE 'mydb'\n",
    "    IAM_ROLE  '{}'\n",
    "    create external database if not exists;\n",
    "\"\"\"\n",
    "]"
   ]
  },
  {
   "cell_type": "code",
   "execution_count": null,
   "metadata": {},
   "outputs": [],
   "source": [
    "with conn.cursor() as cur:\n",
    "    for sql in sql_create_table:\n",
    "        cur.execute(sql.format(redshift_role))\n",
    "        print('Done: ', sql.format(redshift_role))"
   ]
  },
  {
   "cell_type": "markdown",
   "metadata": {},
   "source": [
    "### gz用　外部テーブル"
   ]
  },
  {
   "cell_type": "code",
   "execution_count": null,
   "metadata": {},
   "outputs": [],
   "source": [
    "sql_create_table= [\n",
    "\"\"\"\n",
    "    CREATE EXTERNAL TABLE  workshop.sales_gz(\n",
    "          prod_id DECIMAL(38,0),\n",
    "          cust_id DECIMAL(38,0),\n",
    "          time_id TIMESTAMP,\n",
    "          channel_id DECIMAL(38,0),\n",
    "          promo_id DECIMAL(38,0),\n",
    "          quantity_sold DECIMAL(10,2),\n",
    "          seller INT,\n",
    "          fulfillment_center INT,\n",
    "          courier_org INT,\n",
    "          tax_country VARCHAR(3),\n",
    "          tax_region VARCHAR(3),\n",
    "          amount_sold DECIMAL(10,2)\n",
    "    )\n",
    "    ROW FORMAT DELIMITED\n",
    "    FIELDS TERMINATED BY '\\t'  LINES TERMINATED BY '\\n'\n",
    "    LOCATION 's3://{}-workshopdata/unloaddata/gz/sh10/sales/' ; \n",
    "\"\"\"    \n",
    "]"
   ]
  },
  {
   "cell_type": "code",
   "execution_count": null,
   "metadata": {},
   "outputs": [],
   "source": [
    "with conn.cursor() as cur:\n",
    "    for sql in sql_create_table:\n",
    "        cur.execute(sql.format(accountid, redshift_role))\n",
    "        print('Done: ', sql)"
   ]
  },
  {
   "cell_type": "markdown",
   "metadata": {},
   "source": [
    "### Parquet用 外部テーブル"
   ]
  },
  {
   "cell_type": "code",
   "execution_count": null,
   "metadata": {},
   "outputs": [],
   "source": [
    "sql_create_table= [\n",
    "\"\"\"\n",
    "    CREATE EXTERNAL TABLE workshop.sales_pq(\n",
    "         prod_id DECIMAL(38,0),\n",
    "         cust_id DECIMAL(38,0),\n",
    "         time_id TIMESTAMP,\n",
    "         channel_id DECIMAL(38,0),\n",
    "         promo_id DECIMAL(38,0),\n",
    "         quantity_sold DECIMAL(10,2),\n",
    "         seller INT,\n",
    "         fulfillment_center INT,\n",
    "         courier_org INT,\n",
    "         tax_country VARCHAR(3),\n",
    "         tax_region VARCHAR(3),\n",
    "         amount_sold DECIMAL(10,2)\n",
    "    )\n",
    "    PARTITIONED BY (year int, month int, day int)\n",
    "    STORED AS PARQUET\n",
    "    LOCATION 's3://{}-workshopdata/unloaddata/parquet/sh10/sales/' \n",
    "    table properties ('compression_type'='snappy')\n",
    ";\n",
    "\"\"\"\n",
    "]"
   ]
  },
  {
   "cell_type": "code",
   "execution_count": null,
   "metadata": {},
   "outputs": [],
   "source": [
    "with conn.cursor() as cur:\n",
    "    for sql in sql_create_table:\n",
    "        cur.execute(sql.format(accountid, redshift_role))\n",
    "        print('Done: ', sql)"
   ]
  },
  {
   "cell_type": "markdown",
   "metadata": {},
   "source": [
    "###  外部テーブルの作成を確認"
   ]
  },
  {
   "cell_type": "code",
   "execution_count": null,
   "metadata": {},
   "outputs": [],
   "source": [
    "sql = '''select * from svv_external_schemas;'''\n",
    "%time pd.read_sql(sql=sql, con=conn)"
   ]
  },
  {
   "cell_type": "code",
   "execution_count": null,
   "metadata": {},
   "outputs": [],
   "source": [
    "sql = '''select * from svv_external_tables'''\n",
    "%time pd.read_sql(sql=sql, con=conn)"
   ]
  },
  {
   "cell_type": "markdown",
   "metadata": {},
   "source": [
    "### 補足　誤って作成されたテーブルの削除"
   ]
  },
  {
   "cell_type": "code",
   "execution_count": null,
   "metadata": {},
   "outputs": [],
   "source": [
    "################################\n",
    "### 失敗した場合に テーブルを消す方法\n",
    "sql_del= \"\"\"\n",
    "drop table workshop.sales_pq\n",
    "\"\"\"\n",
    "with conn.cursor() as cur:\n",
    "#    cur.execute(sql_del)\n",
    "    print('Done: ', sql_del)\n",
    "################################"
   ]
  },
  {
   "cell_type": "markdown",
   "metadata": {},
   "source": [
    "### Partitionへの追加"
   ]
  },
  {
   "cell_type": "code",
   "execution_count": null,
   "metadata": {},
   "outputs": [],
   "source": [
    "sql_add= [\n",
    "\"\"\"\n",
    "alter table workshop.sales_pq add\n",
    "partition(year='2013', month='12',day='01') \n",
    "location 's3://{0}-workshopdata/unloaddata/parquet/sh10/sales/year=2013/month=12/day=01'\n",
    "partition(year='2013', month='12',day='02') \n",
    "location 's3://{0}-workshopdata/unloaddata/parquet/sh10/sales/year=2013/month=12/day=02'\n",
    "partition(year='2013', month='12',day='03') \n",
    "location 's3://{0}-workshopdata/unloaddata/parquet/sh10/sales/year=2013/month=12/day=03'\n",
    "partition(year='2013', month='12',day='04') \n",
    "location 's3://{0}-workshopdata/unloaddata/parquet/sh10/sales/year=2013/month=12/day=04'\n",
    "partition(year='2013', month='12',day='05') \n",
    "location 's3://{0}-workshopdata/unloaddata/parquet/sh10/sales/year=2013/month=12/day=05'\n",
    "partition(year='2013', month='12',day='06') \n",
    "location 's3://{0}-workshopdata/unloaddata/parquet/sh10/sales/year=2013/month=12/day=06'\n",
    "partition(year='2013', month='12',day='07') \n",
    "location 's3://{0}-workshopdata/unloaddata/parquet/sh10/sales/year=2013/month=12/day=07'\n",
    "partition(year='2013', month='12',day='08') \n",
    "location 's3://{0}-workshopdata/unloaddata/parquet/sh10/sales/year=2013/month=12/day=08'\n",
    "partition(year='2013', month='12',day='09') \n",
    "location 's3://{0}-workshopdata/unloaddata/parquet/sh10/sales/year=2013/month=12/day=09'\n",
    "partition(year='2013', month='12',day='10') \n",
    "location 's3://{0}-workshopdata/unloaddata/parquet/sh10/sales/year=2013/month=12/day=10';\n",
    "\"\"\"\n",
    "]"
   ]
  },
  {
   "cell_type": "code",
   "execution_count": null,
   "metadata": {},
   "outputs": [],
   "source": [
    "with conn.cursor() as cur:\n",
    "    for sql in sql_add:\n",
    "        cur.execute(sql.format(accountid))\n",
    "        print('Done: ', sql)"
   ]
  },
  {
   "cell_type": "markdown",
   "metadata": {},
   "source": [
    "## Spectrum でクエリしてみましょう\n",
    "\n"
   ]
  },
  {
   "cell_type": "markdown",
   "metadata": {},
   "source": [
    "### GZファイルのプレビュー"
   ]
  },
  {
   "cell_type": "code",
   "execution_count": null,
   "metadata": {},
   "outputs": [],
   "source": [
    "sql_query = '''select *\n",
    "from\n",
    "  workshop.sales_gz\n",
    "limit\n",
    "  10;\n",
    "'''\n",
    "\n",
    "%time pd.read_sql(sql=sql_query, con=conn)"
   ]
  },
  {
   "cell_type": "markdown",
   "metadata": {},
   "source": [
    "### Parquetファイルのプレビュー"
   ]
  },
  {
   "cell_type": "code",
   "execution_count": null,
   "metadata": {},
   "outputs": [],
   "source": [
    "sql_query = '''select *\n",
    "from\n",
    "  workshop.sales_pq\n",
    "limit\n",
    "  10;\n",
    "'''\n",
    "\n",
    "%time pd.read_sql(sql=sql_query, con=conn)"
   ]
  },
  {
   "cell_type": "markdown",
   "metadata": {},
   "source": [
    "### GZファイルの検索　(カウント)"
   ]
  },
  {
   "cell_type": "code",
   "execution_count": null,
   "metadata": {},
   "outputs": [],
   "source": [
    "sql_query = '''select\n",
    " date_trunc('mon', time_id)  , count(1) as deal_count\n",
    "from\n",
    "  workshop.sales_gz\n",
    "group by\n",
    "  date_trunc('mon', time_id) \n",
    "order by\n",
    "  date_trunc('mon', time_id) desc\n",
    "limit\n",
    "  20;\n",
    "'''\n",
    "\n",
    "%time pd.read_sql(sql=sql_query, con=conn)"
   ]
  },
  {
   "cell_type": "markdown",
   "metadata": {},
   "source": [
    "### Parquetファイルの検索　（カウント）"
   ]
  },
  {
   "cell_type": "code",
   "execution_count": null,
   "metadata": {},
   "outputs": [],
   "source": [
    "sql_query = '''select\n",
    " date_trunc('mon', time_id)  , count(1) as deal_count\n",
    "from\n",
    "  workshop.sales_pq\n",
    "group by\n",
    "  date_trunc('mon', time_id) \n",
    "order by\n",
    "  date_trunc('mon', time_id) desc\n",
    "limit\n",
    "  20;\n",
    "'''\n",
    "\n",
    "%time pd.read_sql(sql=sql_query, con=conn)"
   ]
  },
  {
   "cell_type": "markdown",
   "metadata": {},
   "source": [
    "### 残りのパーティション追加"
   ]
  },
  {
   "cell_type": "code",
   "execution_count": null,
   "metadata": {},
   "outputs": [],
   "source": [
    "sql_add= [\n",
    "\"\"\"\n",
    "alter table workshop.sales_pq add\n",
    "partition(year='2013', month='12',day='11') \n",
    "location 's3://{0}-workshopdata/unloaddata/parquet/sh10/sales/year=2013/month=12/day=11'\n",
    "partition(year='2013', month='12',day='12') \n",
    "location 's3://{0}-workshopdata/unloaddata/parquet/sh10/sales/year=2013/month=12/day=12'\n",
    "partition(year='2013', month='12',day='13') \n",
    "location 's3://{0}-workshopdata/unloaddata/parquet/sh10/sales/year=2013/month=12/day=13'\n",
    "partition(year='2013', month='12',day='14') \n",
    "location 's3://{0}-workshopdata/unloaddata/parquet/sh10/sales/year=2013/month=12/day=14'\n",
    "partition(year='2013', month='12',day='15') \n",
    "location 's3://{0}-workshopdata/unloaddata/parquet/sh10/sales/year=2013/month=12/day=15'\n",
    "partition(year='2013', month='12',day='16') \n",
    "location 's3://{0}-workshopdata/unloaddata/parquet/sh10/sales/year=2013/month=12/day=16'\n",
    "partition(year='2013', month='12',day='17') \n",
    "location 's3://{0}-workshopdata/unloaddata/parquet/sh10/sales/year=2013/month=12/day=17'\n",
    "partition(year='2013', month='12',day='18') \n",
    "location 's3://{0}-workshopdata/unloaddata/parquet/sh10/sales/year=2013/month=12/day=18'\n",
    "partition(year='2013', month='12',day='19') \n",
    "location 's3://{0}-workshopdata/unloaddata/parquet/sh10/sales/year=2013/month=12/day=19'\n",
    "partition(year='2013', month='12',day='20') \n",
    "location 's3://{0}-workshopdata/unloaddata/parquet/sh10/sales/year=2013/month=12/day=20'\n",
    "partition(year='2013', month='12',day='21') \n",
    "location 's3://{0}-workshopdata/unloaddata/parquet/sh10/sales/year=2013/month=12/day=21'\n",
    "partition(year='2013', month='12',day='22') \n",
    "location 's3://{0}-workshopdata/unloaddata/parquet/sh10/sales/year=2013/month=12/day=22'\n",
    "partition(year='2013', month='12',day='23') \n",
    "location 's3://{0}-workshopdata/unloaddata/parquet/sh10/sales/year=2013/month=12/day=23'\n",
    "partition(year='2013', month='12',day='24') \n",
    "location 's3://{0}-workshopdata/unloaddata/parquet/sh10/sales/year=2013/month=12/day=24'\n",
    "partition(year='2013', month='12',day='25') \n",
    "location 's3://{0}-workshopdata/unloaddata/parquet/sh10/sales/year=2013/month=12/day=25'\n",
    "partition(year='2013', month='12',day='26') \n",
    "location 's3://{0}-workshopdata/unloaddata/parquet/sh10/sales/year=2013/month=12/day=26'\n",
    "partition(year='2013', month='12',day='27') \n",
    "location 's3://{0}-workshopdata/unloaddata/parquet/sh10/sales/year=2013/month=12/day=27'\n",
    "partition(year='2013', month='12',day='28') \n",
    "location 's3://{0}-workshopdata/unloaddata/parquet/sh10/sales/year=2013/month=12/day=28'\n",
    "partition(year='2013', month='12',day='29') \n",
    "location 's3://{0}-workshopdata/unloaddata/parquet/sh10/sales/year=2013/month=12/day=29'\n",
    "partition(year='2013', month='12',day='30') \n",
    "location 's3://{0}-workshopdata/unloaddata/parquet/sh10/sales/year=2013/month=12/day=30'\n",
    "partition(year='2013', month='12',day='31') \n",
    "location 's3://{0}-workshopdata/unloaddata/parquet/sh10/sales/year=2013/month=12/day=31';\n",
    "\"\"\"\n",
    "]"
   ]
  },
  {
   "cell_type": "code",
   "execution_count": null,
   "metadata": {},
   "outputs": [],
   "source": [
    "with conn.cursor() as cur:\n",
    "    for sql in sql_add:\n",
    "        cur.execute(sql.format(accountid))\n",
    "        print('Done: ', sql)"
   ]
  },
  {
   "cell_type": "markdown",
   "metadata": {},
   "source": [
    "###  もう一度 Parquetファイルの検索でカウント"
   ]
  },
  {
   "cell_type": "code",
   "execution_count": null,
   "metadata": {},
   "outputs": [],
   "source": [
    "sql_query = '''select\n",
    " date_trunc('mon', time_id)  , count(1) as deal_count\n",
    "from\n",
    "  workshop.sales_pq\n",
    "group by\n",
    "  date_trunc('mon', time_id) \n",
    "order by\n",
    "  date_trunc('mon', time_id) desc\n",
    "limit\n",
    "  20;\n",
    "'''\n",
    "\n",
    "%time pd.read_sql(sql=sql_query, con=conn)"
   ]
  },
  {
   "cell_type": "markdown",
   "metadata": {},
   "source": [
    "### システムテーブルを見てみましょう"
   ]
  },
  {
   "cell_type": "code",
   "execution_count": null,
   "metadata": {},
   "outputs": [],
   "source": [
    "sql_query = '''\n",
    "select * from svl_s3query_summary order by starttime desc  limit 10;\n",
    "'''\n",
    "%time pd.read_sql(sql=sql_query, con=conn)"
   ]
  },
  {
   "cell_type": "markdown",
   "metadata": {},
   "source": [
    "### 課金情報を見てみましょう"
   ]
  },
  {
   "cell_type": "code",
   "execution_count": null,
   "metadata": {},
   "outputs": [],
   "source": [
    "sql_query = '''\n",
    "SELECT query,\n",
    "       starttime,\n",
    "       ROUND(elapsed::FLOAT/ 1000 / 1000,2) AS elp_s,\n",
    "       ROUND(s3_scanned_bytes::FLOAT/ 1000 / 1000,4) AS s3_scan_mb,\n",
    "       CASE\n",
    "         WHEN s3_scanned_bytes > 0 \n",
    "         THEN GREATEST(10,CEIL(s3_scanned_bytes::FLOAT/ 1000 / 1000))\n",
    "         ELSE 0\n",
    "       END AS s3_billing_mb,\n",
    "       CASE\n",
    "         WHEN s3_scanned_bytes > 0 \n",
    "         THEN GREATEST(10,CEIL(s3_scanned_bytes::FLOAT/ 1000 / 1000))*0.0005\t\n",
    "         ELSE 0\n",
    "       END AS s3_billing_cents\n",
    "FROM svl_s3query_summary\n",
    "WHERE userid > 1\n",
    "AND  aborted = 0\n",
    "Order by starttime desc  limit 10;\n",
    "'''\n",
    "%time pd.read_sql(sql=sql_query, con=conn)"
   ]
  },
  {
   "cell_type": "markdown",
   "metadata": {},
   "source": [
    "## Reddshift と Spectrum のUnionをしてみましょう"
   ]
  },
  {
   "cell_type": "code",
   "execution_count": null,
   "metadata": {},
   "outputs": [],
   "source": [
    "sql_query = '''\n",
    "select prod_id, cust_id, time_id, channel_id, promo_id, quantity_sold  from  workshop.sales_pq as  spectrum where spectrum.prod_id > 100 and spectrum.prod_id < 200\n",
    " union all\n",
    "select prod_id, cust_id, time_id, channel_id, promo_id, quantity_sold from  sh10.sales as  native where native.prod_id > 100 and native.prod_id < 200  limit 10;\n",
    "'''\n",
    "\n",
    "%time pd.read_sql(sql=sql_query, con=conn)"
   ]
  },
  {
   "cell_type": "markdown",
   "metadata": {},
   "source": [
    "## RedshiftとSpectrumでJoinしてみましょう。"
   ]
  },
  {
   "cell_type": "code",
   "execution_count": null,
   "metadata": {},
   "outputs": [],
   "source": [
    "sql_query = '''\n",
    "select\n",
    "  sales.time_id\n",
    "  , sales.channel_id\n",
    "  , sales.promo_id\n",
    "  , sales.quantity_sold\n",
    "  , sales.amount_sold\n",
    "  , products.prod_category\n",
    "  , products.prod_subcategory\n",
    "  , channels.channel_class\n",
    "  , promotions.promo_category\n",
    "  , promotions.promo_subcategory\n",
    "from\n",
    "  workshop.sales_pq as sales\n",
    "  , sh10.products as products\n",
    "  , sh10.channels as channels\n",
    "  , sh10.promotions as promotions\n",
    "where\n",
    "  sales.prod_id = products.prod_id\n",
    "  and sales.channel_id = channels.channel_id\n",
    "  and sales.promo_id = promotions.promo_id\n",
    "  and sales.year > 2012;  \n",
    "'''\n",
    "\n",
    "%time pd.read_sql(sql=sql_query, con=conn)"
   ]
  },
  {
   "cell_type": "markdown",
   "metadata": {},
   "source": [
    "## Close処理"
   ]
  },
  {
   "cell_type": "markdown",
   "metadata": {},
   "source": [
    "最後に、psycopg2 の connection を閉じます。"
   ]
  },
  {
   "cell_type": "code",
   "execution_count": null,
   "metadata": {},
   "outputs": [],
   "source": [
    "conn.close()"
   ]
  }
 ],
 "metadata": {
  "kernelspec": {
   "display_name": "conda_python3",
   "language": "python",
   "name": "conda_python3"
  },
  "language_info": {
   "codemirror_mode": {
    "name": "ipython",
    "version": 3
   },
   "file_extension": ".py",
   "mimetype": "text/x-python",
   "name": "python",
   "nbconvert_exporter": "python",
   "pygments_lexer": "ipython3",
   "version": "3.6.13"
  }
 },
 "nbformat": 4,
 "nbformat_minor": 2
}
